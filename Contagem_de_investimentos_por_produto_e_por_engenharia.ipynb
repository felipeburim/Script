{
 "cells": [
  {
   "cell_type": "code",
   "execution_count": 2,
   "metadata": {},
   "outputs": [],
   "source": [
    "import pandas as pd\n",
    "import os\n",
    "\n",
    "df_all = pd.read_excel(r'C:\\Users\\User\\Downloads\\Analise-do-Perfil-Investidor.xlsx', sheet_name='Respostas ao formulário 1')\n",
    "df_inv = pd.read_excel(r'C:\\Users\\User\\Downloads\\Analise-do-Perfil-Investidor.xlsx', sheet_name='Planilha1') "
   ]
  },
  {
   "cell_type": "code",
   "execution_count": 3,
   "metadata": {},
   "outputs": [],
   "source": [
    "# as duas listas tem que etar na mesma ordem da planilha origial que virou DF, ou os vallores vao ser colados nas celulas erradas\n",
    "# a correçao seria puxar os valores [0:6] da coluna 'Investimentos' e transforma-los na lista\n",
    "list_inv = ['Poupança','Tesouro Direto','Renda Fixa','Fundos de investimentos','Ações','Outros'] \n",
    "list_eng = ['Engenharia de Gestão','Engenharia Ambiental','Engenharia Biomédica','Engenharia Aeroespacial','Engenharia de Energia','Engenharia de Informação','Engenharia de Innstrumetação, Automação e Robótica','Engenharia de Materiais']"
   ]
  },
  {
   "cell_type": "code",
   "execution_count": 14,
   "metadata": {
    "scrolled": false
   },
   "outputs": [
    {
     "name": "stderr",
     "output_type": "stream",
     "text": [
      "<ipython-input-14-8b14957a9a85>:5: SettingWithCopyWarning: \n",
      "A value is trying to be set on a copy of a slice from a DataFrame\n",
      "\n",
      "See the caveats in the documentation: https://pandas.pydata.org/pandas-docs/stable/user_guide/indexing.html#returning-a-view-versus-a-copy\n",
      "  df_c['N investido'][a] = df_all['Onde você aplica?'].str.contains(list_inv[a]).sum()\n",
      "C:\\Users\\User\\anaconda3\\lib\\site-packages\\IPython\\core\\interactiveshell.py:3418: SettingWithCopyWarning: \n",
      "A value is trying to be set on a copy of a slice from a DataFrame\n",
      "\n",
      "See the caveats in the documentation: https://pandas.pydata.org/pandas-docs/stable/user_guide/indexing.html#returning-a-view-versus-a-copy\n",
      "  exec(code_obj, self.user_global_ns, self.user_ns)\n",
      "C:\\Users\\User\\anaconda3\\lib\\site-packages\\pandas\\core\\indexing.py:670: SettingWithCopyWarning: \n",
      "A value is trying to be set on a copy of a slice from a DataFrame\n",
      "\n",
      "See the caveats in the documentation: https://pandas.pydata.org/pandas-docs/stable/user_guide/indexing.html#returning-a-view-versus-a-copy\n",
      "  iloc._setitem_with_indexer(indexer, value)\n"
     ]
    }
   ],
   "source": [
    "df_final = pd.DataFrame()\n",
    "\n",
    "for j in range(len(list_eng)):\n",
    "    df_c = df_inv.loc[df_inv['Qual seu curso? Caso esteja no BC&T ainda favor escolher sua pretensão de pós BI'] == list_eng[j]]\n",
    "    for a in range(len(list_inv)):\n",
    "        df_c['N investido'][a] = df_all['Onde você aplica?'].str.contains(list_inv[a]).sum() \n",
    "    df_final = pd.concat([df_final, df_c])\n",
    "\n",
    "df_final = df_final[df_final[\"Investimentos\"].str[0:2] != 'In'] #Aqui para limpar os cabeçalhos concatenados juntos\n",
    "\n",
    "#Aviso de que ta errado mas funciona, é recomendação do pandas pra tentar fazer isso de outra maneira!"
   ]
  },
  {
   "cell_type": "code",
   "execution_count": 26,
   "metadata": {},
   "outputs": [
    {
     "data": {
      "text/html": [
       "<div>\n",
       "<style scoped>\n",
       "    .dataframe tbody tr th:only-of-type {\n",
       "        vertical-align: middle;\n",
       "    }\n",
       "\n",
       "    .dataframe tbody tr th {\n",
       "        vertical-align: top;\n",
       "    }\n",
       "\n",
       "    .dataframe thead th {\n",
       "        text-align: right;\n",
       "    }\n",
       "</style>\n",
       "<table border=\"1\" class=\"dataframe\">\n",
       "  <thead>\n",
       "    <tr style=\"text-align: right;\">\n",
       "      <th></th>\n",
       "      <th>Unnamed: 0</th>\n",
       "      <th>Qual seu curso? Caso esteja no BC&amp;T ainda favor escolher sua pretensão de pós BI</th>\n",
       "      <th>Investimentos</th>\n",
       "      <th>N investido</th>\n",
       "    </tr>\n",
       "  </thead>\n",
       "  <tbody>\n",
       "    <tr>\n",
       "      <th>0</th>\n",
       "      <td>NaN</td>\n",
       "      <td>Engenharia de Gestão</td>\n",
       "      <td>Poupança</td>\n",
       "      <td>7.0</td>\n",
       "    </tr>\n",
       "    <tr>\n",
       "      <th>1</th>\n",
       "      <td>NaN</td>\n",
       "      <td>Engenharia de Gestão</td>\n",
       "      <td>Tesouro Direto</td>\n",
       "      <td>5.0</td>\n",
       "    </tr>\n",
       "    <tr>\n",
       "      <th>2</th>\n",
       "      <td>NaN</td>\n",
       "      <td>Engenharia de Gestão</td>\n",
       "      <td>Renda Fixa</td>\n",
       "      <td>9.0</td>\n",
       "    </tr>\n",
       "    <tr>\n",
       "      <th>3</th>\n",
       "      <td>NaN</td>\n",
       "      <td>Engenharia de Gestão</td>\n",
       "      <td>Fundos de Investimentos</td>\n",
       "      <td>7.0</td>\n",
       "    </tr>\n",
       "    <tr>\n",
       "      <th>4</th>\n",
       "      <td>NaN</td>\n",
       "      <td>Engenharia de Gestão</td>\n",
       "      <td>Açoes</td>\n",
       "      <td>6.0</td>\n",
       "    </tr>\n",
       "  </tbody>\n",
       "</table>\n",
       "</div>"
      ],
      "text/plain": [
       "   Unnamed: 0  \\\n",
       "0         NaN   \n",
       "1         NaN   \n",
       "2         NaN   \n",
       "3         NaN   \n",
       "4         NaN   \n",
       "\n",
       "  Qual seu curso? Caso esteja no BC&T ainda favor escolher sua pretensão de pós BI  \\\n",
       "0                               Engenharia de Gestão                                 \n",
       "1                               Engenharia de Gestão                                 \n",
       "2                               Engenharia de Gestão                                 \n",
       "3                               Engenharia de Gestão                                 \n",
       "4                               Engenharia de Gestão                                 \n",
       "\n",
       "             Investimentos  N investido  \n",
       "0                 Poupança          7.0  \n",
       "1           Tesouro Direto          5.0  \n",
       "2               Renda Fixa          9.0  \n",
       "3  Fundos de Investimentos          7.0  \n",
       "4                    Açoes          6.0  "
      ]
     },
     "execution_count": 26,
     "metadata": {},
     "output_type": "execute_result"
    }
   ],
   "source": [
    "df_final.head(5)"
   ]
  },
  {
   "cell_type": "code",
   "execution_count": 18,
   "metadata": {},
   "outputs": [],
   "source": [
    "#df_ges = df_inv.loc[df_inv['Qual seu curso? Caso esteja no BC&T ainda favor escolher sua pretensão de pós BI'] == 'Engenharia de Gestão']\n",
    "#for a in range(len(list_inv)):\n",
    " #   df_ges['N investido'][a] = df_all['Onde você aplica?'].str.contains(list_inv[a]).sum()\n",
    "\n",
    "#df_amb = df_inv.loc[df_inv['Qual seu curso? Caso esteja no BC&T ainda favor escolher sua pretensão de pós BI'] == 'Engenharia Ambiental']\n",
    "#for a in range(len(list_inv)):\n",
    " #   df_amb['N investido'][a] = df_all['Onde você aplica?'].str.contains(list_inv[a]).sum()\n",
    "    \n",
    "#df_aero = df_inv.loc[df_inv['Qual seu curso? Caso esteja no BC&T ainda favor escolher sua pretensão de pós BI'] == 'Engenharia Aeroespacial']\n",
    "#for a in range(len(list_inv)):\n",
    " #   df_aero['N investido'][a] = df_all['Onde você aplica?'].str.contains(list_inv[a]).sum()\n",
    "    \n",
    "#df_biom = df_inv.loc[df_inv['Qual seu curso? Caso esteja no BC&T ainda favor escolher sua pretensão de pós BI'] == 'Engenharia Biomédica']\n",
    "#for a in range(len(list_inv)):\n",
    "#    df_biom['N investido'][a] = df_all['Onde você aplica?'].str.contains(list_inv[a]).sum()\n",
    "\n",
    "#df_energ = df_inv.loc[df_inv['Qual seu curso? Caso esteja no BC&T ainda favor escolher sua pretensão de pós BI'] == 'Engenharia de Energia']\n",
    "#for a in range(len(list_inv)):\n",
    " #   df_energ['N investido'][a] = df_all['Onde você aplica?'].str.contains(list_inv[a]).sum()\n",
    "    \n",
    "#df_info = df_inv.loc[df_inv['Qual seu curso? Caso esteja no BC&T ainda favor escolher sua pretensão de pós BI'] == 'Engenharia de Informação']\n",
    "#for a in range(len(list_inv)):\n",
    "#    df_info['N investido'][a] = df_all['Onde você aplica?'].str.contains(list_inv[a]).sum()\n",
    "\n",
    "#df_iar = df_inv.loc[df_inv['Qual seu curso? Caso esteja no BC&T ainda favor escolher sua pretensão de pós BI'] == 'Engenharia de Innstrumetação, Automação e Robótica']\n",
    "#for a in range(len(list_inv)):\n",
    "#df_iar['N investido'][a] = df_all['Onde você aplica?'].str.contains(list_inv[a]).sum()\n",
    "\n",
    "#df_mat = df_inv.loc[df_inv['Qual seu curso? Caso esteja no BC&T ainda favor escolher sua pretensão de pós BI'] == 'Engenharia de Materiais']\n",
    "#for a in range(len(list_inv)):\n",
    "#    df_mat['N investido'][a] = df_all['Onde você aplica?'].str.contains(list_inv[a]).sum()\n",
    "\n",
    "#Aviso de que ta errado mas funciona, é recomendação do pandas pra tentar fazer isso de outra maneira!\n",
    "\n",
    "#df_concat = pd.concat([df_ges, df_amb, df_aero, df_biom, df_energ, df_info, df_iar, df_mat])\n",
    "#df contendo todos os dfs de cada eng, criados separadamente\n",
    "#df_concat = df_concat[df_concat[\"Investimentos\"].str[0:2] != 'In'] #Aqui para limpar os cabeçalhos concatenados juntos"
   ]
  }
 ],
 "metadata": {
  "kernelspec": {
   "display_name": "Python 3",
   "language": "python",
   "name": "python3"
  },
  "language_info": {
   "codemirror_mode": {
    "name": "ipython",
    "version": 3
   },
   "file_extension": ".py",
   "mimetype": "text/x-python",
   "name": "python",
   "nbconvert_exporter": "python",
   "pygments_lexer": "ipython3",
   "version": "3.8.5"
  }
 },
 "nbformat": 4,
 "nbformat_minor": 4
}
